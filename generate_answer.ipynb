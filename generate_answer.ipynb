{
 "cells": [
  {
   "cell_type": "markdown",
   "id": "successful-discipline",
   "metadata": {},
   "source": [
    "# This notebook is used to generate answer \n",
    "\n",
    "**results/answer.txt $\\rightarrow$ results/answer.csv (in the correct format)**"
   ]
  },
  {
   "cell_type": "code",
   "execution_count": 67,
   "id": "changing-warrior",
   "metadata": {
    "ExecuteTime": {
     "end_time": "2021-12-27T20:59:25.281370Z",
     "start_time": "2021-12-27T20:59:25.146955Z"
    }
   },
   "outputs": [],
   "source": [
    "import numpy as np\n",
    "import pandas as pd\n",
    "\n",
    "import matplotlib.pyplot as plt\n",
    "import seaborn as sns\n",
    "\n",
    "sns.set(font_scale=1.3, style='whitegrid', palette='Set2')\n",
    "%matplotlib inline\n",
    "\n",
    "from copy import deepcopy\n",
    "from tqdm import tqdm"
   ]
  },
  {
   "cell_type": "code",
   "execution_count": 68,
   "id": "floppy-railway",
   "metadata": {
    "ExecuteTime": {
     "end_time": "2021-12-27T20:59:25.561153Z",
     "start_time": "2021-12-27T20:59:25.542017Z"
    }
   },
   "outputs": [
    {
     "name": "stdout",
     "output_type": "stream",
     "text": [
      "🎅🤶🦌🧝🎄🎁🎀\n"
     ]
    }
   ],
   "source": [
    "symbols = '🎅🤶🦌🧝🎄🎁🎀'\n",
    "print(symbols)"
   ]
  },
  {
   "cell_type": "code",
   "execution_count": 69,
   "id": "thermal-jefferson",
   "metadata": {
    "ExecuteTime": {
     "end_time": "2021-12-27T20:59:25.966086Z",
     "start_time": "2021-12-27T20:59:25.860969Z"
    }
   },
   "outputs": [
    {
     "data": {
      "text/html": [
       "<div>\n",
       "<style scoped>\n",
       "    .dataframe tbody tr th:only-of-type {\n",
       "        vertical-align: middle;\n",
       "    }\n",
       "\n",
       "    .dataframe tbody tr th {\n",
       "        vertical-align: top;\n",
       "    }\n",
       "\n",
       "    .dataframe thead th {\n",
       "        text-align: right;\n",
       "    }\n",
       "</style>\n",
       "<table border=\"1\" class=\"dataframe\">\n",
       "  <thead>\n",
       "    <tr style=\"text-align: right;\">\n",
       "      <th></th>\n",
       "      <th>Permutation</th>\n",
       "    </tr>\n",
       "  </thead>\n",
       "  <tbody>\n",
       "    <tr>\n",
       "      <th>0</th>\n",
       "      <td>🎅🤶🦌🧝🎄🎁🎀</td>\n",
       "    </tr>\n",
       "    <tr>\n",
       "      <th>1</th>\n",
       "      <td>🎅🤶🦌🧝🎄🎀🎁</td>\n",
       "    </tr>\n",
       "    <tr>\n",
       "      <th>2</th>\n",
       "      <td>🎅🤶🦌🧝🎁🎄🎀</td>\n",
       "    </tr>\n",
       "    <tr>\n",
       "      <th>3</th>\n",
       "      <td>🎅🤶🦌🧝🎁🎀🎄</td>\n",
       "    </tr>\n",
       "    <tr>\n",
       "      <th>4</th>\n",
       "      <td>🎅🤶🦌🧝🎀🎄🎁</td>\n",
       "    </tr>\n",
       "  </tbody>\n",
       "</table>\n",
       "</div>"
      ],
      "text/plain": [
       "  Permutation\n",
       "0     🎅🤶🦌🧝🎄🎁🎀\n",
       "1     🎅🤶🦌🧝🎄🎀🎁\n",
       "2     🎅🤶🦌🧝🎁🎄🎀\n",
       "3     🎅🤶🦌🧝🎁🎀🎄\n",
       "4     🎅🤶🦌🧝🎀🎄🎁"
      ]
     },
     "execution_count": 69,
     "metadata": {},
     "output_type": "execute_result"
    }
   ],
   "source": [
    "permutations = pd.read_csv('permutations.csv')\n",
    "permutations.head()"
   ]
  },
  {
   "cell_type": "code",
   "execution_count": 70,
   "id": "extreme-dragon",
   "metadata": {
    "ExecuteTime": {
     "end_time": "2021-12-27T20:59:26.059065Z",
     "start_time": "2021-12-27T20:59:26.025584Z"
    }
   },
   "outputs": [
    {
     "data": {
      "text/html": [
       "<div>\n",
       "<style scoped>\n",
       "    .dataframe tbody tr th:only-of-type {\n",
       "        vertical-align: middle;\n",
       "    }\n",
       "\n",
       "    .dataframe tbody tr th {\n",
       "        vertical-align: top;\n",
       "    }\n",
       "\n",
       "    .dataframe thead th {\n",
       "        text-align: right;\n",
       "    }\n",
       "</style>\n",
       "<table border=\"1\" class=\"dataframe\">\n",
       "  <thead>\n",
       "    <tr style=\"text-align: right;\">\n",
       "      <th></th>\n",
       "      <th>schedule</th>\n",
       "    </tr>\n",
       "  </thead>\n",
       "  <tbody>\n",
       "    <tr>\n",
       "      <th>0</th>\n",
       "      <td>🎅🤶🦌🧝🎄🎁🎀🎁🎄🧝🦌🎅🤶🦌🧝🎄🎀🎁🤶🎄🧝🦌🎀🎅🤶🦌🧝🎁🎄🎀🤶🎁🎄🧝🦌🎅🤶🦌🧝🎁🎀🎄🤶🧝🦌🎀...</td>\n",
       "    </tr>\n",
       "    <tr>\n",
       "      <th>1</th>\n",
       "      <td>🎅🤶🦌🧝🎄🎁🎀🎅🤶🦌🧝🎄🎀🎁🎅🤶🦌🧝🎁🎄🎀🎅🤶🦌🧝🎁🎀🎄🎅🤶🦌🧝🎀🎄🎁🎅🤶🦌🧝🎀🎁🎄🎅🤶🦌🎄...</td>\n",
       "    </tr>\n",
       "    <tr>\n",
       "      <th>2</th>\n",
       "      <td>🎅🤶🦌🧝🎄🎁🎀🎅🤶🦌🧝🎄🎀🎁🎅🤶🦌🧝🎁🎄🎀🎅🤶🦌🧝🎁🎀🎄🎅🤶🦌🧝🎀🎄🎁🎅🤶🦌🧝🎀🎁🎄🎅🤶🦌🎄...</td>\n",
       "    </tr>\n",
       "  </tbody>\n",
       "</table>\n",
       "</div>"
      ],
      "text/plain": [
       "                                            schedule\n",
       "0  🎅🤶🦌🧝🎄🎁🎀🎁🎄🧝🦌🎅🤶🦌🧝🎄🎀🎁🤶🎄🧝🦌🎀🎅🤶🦌🧝🎁🎄🎀🤶🎁🎄🧝🦌🎅🤶🦌🧝🎁🎀🎄🤶🧝🦌🎀...\n",
       "1  🎅🤶🦌🧝🎄🎁🎀🎅🤶🦌🧝🎄🎀🎁🎅🤶🦌🧝🎁🎄🎀🎅🤶🦌🧝🎁🎀🎄🎅🤶🦌🧝🎀🎄🎁🎅🤶🦌🧝🎀🎁🎄🎅🤶🦌🎄...\n",
       "2  🎅🤶🦌🧝🎄🎁🎀🎅🤶🦌🧝🎄🎀🎁🎅🤶🦌🧝🎁🎄🎀🎅🤶🦌🧝🎁🎀🎄🎅🤶🦌🧝🎀🎄🎁🎅🤶🦌🧝🎀🎁🎄🎅🤶🦌🎄..."
      ]
     },
     "execution_count": 70,
     "metadata": {},
     "output_type": "execute_result"
    }
   ],
   "source": [
    "sample_submission = pd.read_csv('sample_submission.csv')\n",
    "sample_submission.head()"
   ]
  },
  {
   "cell_type": "code",
   "execution_count": 71,
   "id": "compressed-trouble",
   "metadata": {
    "ExecuteTime": {
     "end_time": "2021-12-27T20:59:26.184715Z",
     "start_time": "2021-12-27T20:59:26.167761Z"
    }
   },
   "outputs": [],
   "source": [
    "def read_file(filename):\n",
    "    with open(filename) as f:\n",
    "        lines = f.readlines()\n",
    "    return lines"
   ]
  },
  {
   "cell_type": "code",
   "execution_count": 72,
   "id": "apparent-argument",
   "metadata": {
    "ExecuteTime": {
     "end_time": "2021-12-27T20:59:26.354352Z",
     "start_time": "2021-12-27T20:59:26.324362Z"
    }
   },
   "outputs": [
    {
     "name": "stdout",
     "output_type": "stream",
     "text": [
      "1734\n",
      "1784\n",
      "1762\n"
     ]
    }
   ],
   "source": [
    "answer = read_file('results/answer.txt')\n",
    "\n",
    "answer = [[int(x) for x in string.split()] for string in answer]\n",
    "\n",
    "for line in answer:\n",
    "    print(len(line))"
   ]
  },
  {
   "cell_type": "code",
   "execution_count": 73,
   "id": "cross-hawaiian",
   "metadata": {
    "ExecuteTime": {
     "end_time": "2021-12-27T20:59:26.555355Z",
     "start_time": "2021-12-27T20:59:26.543421Z"
    }
   },
   "outputs": [],
   "source": [
    "def get_emoji_line(line):\n",
    "    # for each vertex add as few letters as possible\n",
    "    result = permutations['Permutation'].iloc[line[0]]\n",
    "    \n",
    "    for i in range(1, len(line)):\n",
    "        new_permutation = permutations['Permutation'].iloc[line[i]]\n",
    "        success = False\n",
    "        for j in range(7, 0, -1):\n",
    "            if result[-j:] == new_permutation[:j]:\n",
    "                result += new_permutation[j:]\n",
    "                success = True\n",
    "                break\n",
    "        if not success:\n",
    "            result += new_permutation\n",
    "    return result"
   ]
  },
  {
   "cell_type": "code",
   "execution_count": 74,
   "id": "hispanic-cedar",
   "metadata": {
    "ExecuteTime": {
     "end_time": "2021-12-27T20:59:27.006120Z",
     "start_time": "2021-12-27T20:59:26.998140Z"
    }
   },
   "outputs": [
    {
     "name": "stdout",
     "output_type": "stream",
     "text": [
      "🎅🤶🦌🧝🎄🎁🎀🎅🤶🦌🧝🎄🎀🎁🎅🤶🦌🧝🎁🎄🎀\n"
     ]
    }
   ],
   "source": [
    "print(get_emoji_line([0, 1, 2]))"
   ]
  },
  {
   "cell_type": "code",
   "execution_count": 75,
   "id": "historical-blowing",
   "metadata": {
    "ExecuteTime": {
     "end_time": "2021-12-27T20:59:27.676329Z",
     "start_time": "2021-12-27T20:59:27.609424Z"
    }
   },
   "outputs": [
    {
     "name": "stdout",
     "output_type": "stream",
     "text": [
      "4958\n",
      "4956\n",
      "4958\n"
     ]
    }
   ],
   "source": [
    "for line in answer:\n",
    "    print(len(get_emoji_line(line)))"
   ]
  },
  {
   "cell_type": "code",
   "execution_count": 76,
   "id": "advisory-honor",
   "metadata": {
    "ExecuteTime": {
     "end_time": "2021-12-27T20:59:28.328190Z",
     "start_time": "2021-12-27T20:59:28.264359Z"
    }
   },
   "outputs": [],
   "source": [
    "final_answer = pd.DataFrame([\n",
    "    get_emoji_line(line) for line in answer\n",
    "], columns=['schedule'])"
   ]
  },
  {
   "cell_type": "code",
   "execution_count": 77,
   "id": "floral-airport",
   "metadata": {
    "ExecuteTime": {
     "end_time": "2021-12-27T20:59:29.201333Z",
     "start_time": "2021-12-27T20:59:29.186374Z"
    }
   },
   "outputs": [
    {
     "data": {
      "text/html": [
       "<div>\n",
       "<style scoped>\n",
       "    .dataframe tbody tr th:only-of-type {\n",
       "        vertical-align: middle;\n",
       "    }\n",
       "\n",
       "    .dataframe tbody tr th {\n",
       "        vertical-align: top;\n",
       "    }\n",
       "\n",
       "    .dataframe thead th {\n",
       "        text-align: right;\n",
       "    }\n",
       "</style>\n",
       "<table border=\"1\" class=\"dataframe\">\n",
       "  <thead>\n",
       "    <tr style=\"text-align: right;\">\n",
       "      <th></th>\n",
       "      <th>schedule</th>\n",
       "    </tr>\n",
       "  </thead>\n",
       "  <tbody>\n",
       "    <tr>\n",
       "      <th>0</th>\n",
       "      <td>🎁🦌🧝🤶🎀🎄🎅🎁🦌🎀🧝🤶🎁🎀🎄🦌🎅🎄🤶🧝🎁🦌🎀🤶🦌🧝🎁🎄🎅🤶🎀🧝🦌🎁🎄🎅🤶🎅🎄🎁🧝🦌🤶🎀🎅🎄...</td>\n",
       "    </tr>\n",
       "    <tr>\n",
       "      <th>1</th>\n",
       "      <td>🎄🤶🎅🧝🎁🦌🎀🎄🤶🧝🎅🦌🎁🎄🎀🤶🧝🎅🎁🎄🦌🎀🤶🧝🎀🎁🤶🧝🎅🦌🎄🎀🤶🎁🧝🎅🦌🎄🧝🎅🎄🎀🎁🦌🤶🧝...</td>\n",
       "    </tr>\n",
       "    <tr>\n",
       "      <th>2</th>\n",
       "      <td>🎅🤶🎁🎄🎀🦌🧝🎅🤶🎀🦌🎁🧝🎄🎀🤶🎅🤶🎄🧝🎀🎁🦌🤶🎄🎀🎁🧝🎅🦌🧝🎅🎄🤶🎀🎁🦌🧝🎅🎄🧝🎄🎁🦌🎅🤶...</td>\n",
       "    </tr>\n",
       "  </tbody>\n",
       "</table>\n",
       "</div>"
      ],
      "text/plain": [
       "                                            schedule\n",
       "0  🎁🦌🧝🤶🎀🎄🎅🎁🦌🎀🧝🤶🎁🎀🎄🦌🎅🎄🤶🧝🎁🦌🎀🤶🦌🧝🎁🎄🎅🤶🎀🧝🦌🎁🎄🎅🤶🎅🎄🎁🧝🦌🤶🎀🎅🎄...\n",
       "1  🎄🤶🎅🧝🎁🦌🎀🎄🤶🧝🎅🦌🎁🎄🎀🤶🧝🎅🎁🎄🦌🎀🤶🧝🎀🎁🤶🧝🎅🦌🎄🎀🤶🎁🧝🎅🦌🎄🧝🎅🎄🎀🎁🦌🤶🧝...\n",
       "2  🎅🤶🎁🎄🎀🦌🧝🎅🤶🎀🦌🎁🧝🎄🎀🤶🎅🤶🎄🧝🎀🎁🦌🤶🎄🎀🎁🧝🎅🦌🧝🎅🎄🤶🎀🎁🦌🧝🎅🎄🧝🎄🎁🦌🎅🤶..."
      ]
     },
     "execution_count": 77,
     "metadata": {},
     "output_type": "execute_result"
    }
   ],
   "source": [
    "final_answer.head()"
   ]
  },
  {
   "cell_type": "code",
   "execution_count": 78,
   "id": "powerful-parking",
   "metadata": {
    "ExecuteTime": {
     "end_time": "2021-12-27T20:59:32.266639Z",
     "start_time": "2021-12-27T20:59:32.243694Z"
    }
   },
   "outputs": [],
   "source": [
    "final_answer.to_csv('results/answer.csv', index=False)"
   ]
  },
  {
   "cell_type": "code",
   "execution_count": 79,
   "id": "twelve-establishment",
   "metadata": {
    "ExecuteTime": {
     "end_time": "2021-12-27T20:59:32.545851Z",
     "start_time": "2021-12-27T20:59:32.534882Z"
    }
   },
   "outputs": [
    {
     "name": "stdout",
     "output_type": "stream",
     "text": [
      "5280\n"
     ]
    }
   ],
   "source": [
    "print(len(answer[0]) + len(answer[1]) + len(answer[2]))"
   ]
  },
  {
   "cell_type": "code",
   "execution_count": null,
   "id": "spanish-hunger",
   "metadata": {},
   "outputs": [],
   "source": []
  }
 ],
 "metadata": {
  "kernelspec": {
   "display_name": "Python 3",
   "language": "python",
   "name": "python3"
  },
  "language_info": {
   "codemirror_mode": {
    "name": "ipython",
    "version": 3
   },
   "file_extension": ".py",
   "mimetype": "text/x-python",
   "name": "python",
   "nbconvert_exporter": "python",
   "pygments_lexer": "ipython3",
   "version": "3.7.10"
  }
 },
 "nbformat": 4,
 "nbformat_minor": 5
}
